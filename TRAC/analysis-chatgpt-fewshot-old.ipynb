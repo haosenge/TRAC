{
 "cells": [
  {
   "cell_type": "markdown",
   "metadata": {},
   "source": [
    "## Import necessary packages"
   ]
  },
  {
   "cell_type": "code",
   "execution_count": 90,
   "metadata": {},
   "outputs": [],
   "source": [
    "import os\n",
    "os.environ[\"CUDA_VISIBLE_DEVICES\"]=\"4,5,6,7\"\n",
    "from kilt import retrieval\n",
    "from kilt import kilt_utils as utils\n",
    "import tasks\n",
    "# from kilt.retrievers import DPR_connector\n",
    "import utils\n",
    "from rouge_score import rouge_scorer\n",
    "import random\n",
    "import numpy as np\n",
    "import torch\n",
    "torch.set_grad_enabled(False)\n",
    "from transformers import DPRContextEncoder, DPRContextEncoderTokenizer\n",
    "from transformers import DPRQuestionEncoder, DPRQuestionEncoderTokenizer\n",
    "from datasets import load_dataset\n",
    "import json\n",
    "from tqdm import tqdm\n",
    "import opensource\n",
    "\n",
    "seed = 21\n",
    "np.random.seed(seed)\n",
    "random.seed(seed)"
   ]
  },
  {
   "cell_type": "code",
   "execution_count": 91,
   "metadata": {},
   "outputs": [],
   "source": [
    "import pickle\n",
    "def write_list(a_list, file_name):\n",
    "    # store list in binary file so 'wb' mode\n",
    "    with open(file_name, 'wb') as fp:\n",
    "        pickle.dump(a_list, fp)\n",
    "        print('Done writing list into a binary file')\n",
    "def read_list(file_name):\n",
    "    # for reading also binary mode is important\n",
    "    with open(file_name, 'rb') as fp:\n",
    "        n_list = pickle.load(fp)\n",
    "        return n_list"
   ]
  },
  {
   "cell_type": "code",
   "execution_count": 92,
   "metadata": {},
   "outputs": [],
   "source": [
    "def read_chatgpt_results(task):\n",
    "    retrieved_scores = read_list(f'chatgpt_retrieved_scores_{task}_fewshot.p')\n",
    "    retrieved_true_scores = read_list(f'chatgpt_retrieved_true_scores_{task}_fewshot.p')\n",
    "    queries = read_list(f'chatgpt_queries_{task}_fewshot.p')\n",
    "    answers = read_list(f'chatgpt_true_answers_{task}_fewshot.p')\n",
    "    chatgpt_true_scores = read_list(f'chatgpt_true_scores_{task}_fewshot.p')\n",
    "    chatgpt_answers = read_list(f'chatgpt_answers_{task}_fewshot.p')\n",
    "    chatgpt_passages = read_list(f'chatgpt_passages_{task}_fewshot.p')\n",
    "    chatgpt_semantics = read_list(f'chatgpt_semantics_{task}_fewshot.p')\n",
    "    chatgpt_occurances = read_list(f'chatgpt_occurances_{task}_fewshot.p')\n",
    "    chatgpt_semantic_ids = read_list(f'chatgpt_semantic_ids_{task}_fewshot.p')\n",
    "    chatgpt_probs = read_list(f'chatgpt_probs_{task}_fewshot.p')\n",
    "    feasibilities = read_list(f'chatgpt_feasibilities_{task}_fewshot.p')\n",
    "    \n",
    "    retrieved_scores_unc = read_list(f'chatgpt_retrieved_scores_unc_{task}_fewshot.p')\n",
    "    retrieved_true_scores_unc = read_list(f'chatgpt_retrieved_true_scores_unc_{task}_fewshot.p')\n",
    "    queries_unc = read_list(f'chatgpt_queries_unc_{task}_fewshot.p')\n",
    "    answers_unc = read_list(f'chatgpt_answers_unc_{task}_fewshot.p')\n",
    "    passages_unc = read_list(f'chatgpt_passages_unc_{task}_fewshot.p')\n",
    "    chatgpt_true_scores_unc = read_list(f'chatgpt_true_scores_unc_{task}_fewshot.p')\n",
    "    chatgpt_answers_unc = read_list(f'chatgpt_answers_unc_{task}_fewshot.p')\n",
    "    chatgpt_occurances_unc = read_list(f'chatgpt_occurances_unc_{task}_fewshot.p')\n",
    "    chatgpt_semantic_ids_unc = read_list(f'chatgpt_semantic_ids_unc_{task}_fewshot.p')\n",
    "    chatgpt_probs_unc = read_list(f'chatgpt_probs_unc_{task}_fewshot.p')\n",
    "    \n",
    "    return feasibilities, retrieved_scores, retrieved_true_scores, queries, answers, chatgpt_true_scores, chatgpt_answers, chatgpt_passages, chatgpt_semantics, chatgpt_occurances, chatgpt_semantic_ids, chatgpt_probs, retrieved_scores_unc, retrieved_true_scores_unc, queries_unc, answers_unc, passages_unc, chatgpt_true_scores_unc, chatgpt_answers_unc, chatgpt_occurances_unc, chatgpt_semantic_ids_unc, chatgpt_probs_unc"
   ]
  },
  {
   "cell_type": "code",
   "execution_count": 93,
   "metadata": {},
   "outputs": [],
   "source": [
    "task = 'nq'"
   ]
  },
  {
   "cell_type": "code",
   "execution_count": 94,
   "metadata": {},
   "outputs": [],
   "source": [
    "dataset_dpr = tasks.RQA_dpr(task=task)\n",
    "elements = dataset_dpr.elements"
   ]
  },
  {
   "cell_type": "code",
   "execution_count": 95,
   "metadata": {},
   "outputs": [],
   "source": [
    "all_queries = [element['question'] for element in elements]"
   ]
  },
  {
   "cell_type": "code",
   "execution_count": 96,
   "metadata": {},
   "outputs": [],
   "source": [
    "semantic = False\n",
    "scorer = rouge_scorer.RougeScorer([\"rouge1\", \"rouge2\", \"rougeL\"],\n",
    "                                        use_stemmer=True)\n",
    "if semantic:\n",
    "    from transformers import AutoModelForSequenceClassification, AutoTokenizer\n",
    "    # setup semantic model\n",
    "    semantic_tokenizer = \\\n",
    "        AutoTokenizer.from_pretrained(\"microsoft/deberta-large-mnli\")\n",
    "    semantic_model = \\\n",
    "        AutoModelForSequenceClassification.from_pretrained(\n",
    "            \"microsoft/deberta-large-mnli\"\n",
    "        ).cuda()"
   ]
  },
  {
   "cell_type": "code",
   "execution_count": 137,
   "metadata": {},
   "outputs": [],
   "source": [
    "feasibilities, retrieved_scores, retrieved_true_scores, queries, answers, chatgpt_true_scores, chatgpt_answers, chatgpt_passages, chatgpt_semantics, chatgpt_occurances, chatgpt_semantic_ids, chatgpt_probs, retrieved_scores_unc, retrieved_true_scores_unc, queries_unc, answers_unc, passages_unc, chatgpt_true_scores_unc, chatgpt_answers_unc, chatgpt_occurances_unc, chatgpt_semantic_ids_unc, chatgpt_probs_unc = \\\n",
    "        read_chatgpt_results(task)"
   ]
  },
  {
   "cell_type": "code",
   "execution_count": 138,
   "metadata": {},
   "outputs": [
    {
     "data": {
      "text/plain": [
       "471"
      ]
     },
     "execution_count": 138,
     "metadata": {},
     "output_type": "execute_result"
    }
   ],
   "source": [
    "len(retrieved_scores)"
   ]
  },
  {
   "cell_type": "code",
   "execution_count": 99,
   "metadata": {},
   "outputs": [],
   "source": [
    "indices = np.arange(len(retrieved_true_scores))\n",
    "random.shuffle(indices)\n",
    "cal_first_indices = indices[:int(len(indices) * 0.3)]\n",
    "cal_second_indices = indices[int(len(indices) * 0.3) : int(len(indices) * 0.6)]\n",
    "test_indices = indices[int(len(indices) * 0.6):]\n",
    "\n",
    "\n",
    "cal_first_retrieved_true_scores = utils.split(retrieved_true_scores, cal_first_indices)\n",
    "cal_second_retrieved_true_scores = utils.split(retrieved_true_scores, cal_second_indices)\n",
    "test_retrieved_true_scores = utils.split(retrieved_true_scores, test_indices)\n",
    "cal_first_chatgpt_true_scores = utils.split(chatgpt_true_scores, cal_first_indices)\n",
    "cal_second_chatgpt_true_scores = utils.split(chatgpt_true_scores, cal_second_indices)\n",
    "test_chatgpt_true_scores = utils.split(chatgpt_true_scores, test_indices)\n",
    "cal_first_retrieved_scores = utils.split(retrieved_scores, cal_first_indices)\n",
    "cal_second_retrieved_scores = utils.split(retrieved_scores, cal_second_indices)\n",
    "test_retrieved_scores = utils.split(retrieved_scores, test_indices)\n",
    "cal_first_chatgpt_occurances = utils.split(chatgpt_occurances, cal_first_indices)\n",
    "cal_second_chatgpt_occurances = utils.split(chatgpt_occurances, cal_second_indices)\n",
    "test_chatgpt_occurances = utils.split(chatgpt_occurances, test_indices)\n",
    "cal_first_chatgpt_semantic_ids = utils.split(chatgpt_semantic_ids, cal_first_indices)\n",
    "cal_second_chatgpt_semantic_ids = utils.split(chatgpt_semantic_ids, cal_second_indices)\n",
    "test_chatgpt_semantic_ids = utils.split(chatgpt_semantic_ids, test_indices)\n",
    "cal_first_queries = utils.split(queries, cal_first_indices)\n",
    "cal_second_queries = utils.split(queries, cal_second_indices)\n",
    "test_queries = utils.split(queries, test_indices)\n",
    "cal_first_chatgpt_answers = utils.split(chatgpt_answers, cal_first_indices)\n",
    "cal_second_chatgpt_answers = utils.split(chatgpt_answers, cal_second_indices)\n",
    "test_chatgpt_answers = utils.split(chatgpt_answers, test_indices)\n",
    "cal_first_answers = utils.split(answers, cal_first_indices)\n",
    "cal_second_answers = utils.split(answers, cal_second_indices)\n",
    "test_answers = utils.split(answers, test_indices)"
   ]
  },
  {
   "cell_type": "code",
   "execution_count": 100,
   "metadata": {},
   "outputs": [],
   "source": [
    "scorer = rouge_scorer.RougeScorer([\"rouge1\", \"rouge2\", \"rougeL\"],\n",
    "                                        use_stemmer=True)"
   ]
  },
  {
   "cell_type": "markdown",
   "metadata": {},
   "source": [
    "## Compute coverage rate"
   ]
  },
  {
   "cell_type": "code",
   "execution_count": 101,
   "metadata": {},
   "outputs": [],
   "source": [
    "def coverage(\n",
    "        retrieved_true_scores_list, opensource_true_scores_list,\n",
    "        retrieved_thr, qa_thr):\n",
    "\n",
    "    includes = []\n",
    "    for idx, (retrieved_true_score, opensource_true_score) in enumerate(zip(retrieved_true_scores_list, opensource_true_scores_list)):\n",
    "#         if idx > 20:\n",
    "        opensource_true_score = np.max(opensource_true_score)\n",
    "        include = True if (retrieved_true_score >= retrieved_thr and \n",
    "                           opensource_true_score >= qa_thr) \\\n",
    "                       else False\n",
    "        includes.append(include)\n",
    "    return includes"
   ]
  },
  {
   "cell_type": "code",
   "execution_count": 102,
   "metadata": {},
   "outputs": [],
   "source": [
    "alpha = 0.1"
   ]
  },
  {
   "cell_type": "code",
   "execution_count": 103,
   "metadata": {
    "scrolled": true
   },
   "outputs": [
    {
     "name": "stdout",
     "output_type": "stream",
     "text": [
      "retrieval coverage 0.9690721649484536\n",
      "qa coverage 0.9175257731958762\n",
      "test retrieval coverage 0.9689922480620154\n",
      "test qa coverage 0.9457364341085271\n"
     ]
    }
   ],
   "source": [
    "retrieved_thr = utils.compute_threshold(cal_first_retrieved_true_scores, alpha=alpha/2)\n",
    "cal_first_scores = []\n",
    "for scores in cal_first_chatgpt_true_scores:\n",
    "    cal_first_scores.append(np.max(scores))\n",
    "chatgpt_qa_thr = utils.compute_threshold(cal_first_scores, alpha=alpha/2)\n",
    "\n",
    "retrieved_coverage = np.mean(np.array(cal_second_retrieved_true_scores) >= retrieved_thr)\n",
    "cal_second_scores = []\n",
    "for scores in cal_second_chatgpt_true_scores:\n",
    "    cal_second_scores.append(np.max(scores))\n",
    "qa_coverage = np.mean(np.array(cal_second_scores) >= chatgpt_qa_thr)\n",
    "print('retrieval coverage', retrieved_coverage)\n",
    "print('qa coverage', qa_coverage)\n",
    "\n",
    "retrieved_coverage = np.mean(np.array(test_retrieved_true_scores) >= retrieved_thr)\n",
    "test_scores = []\n",
    "for scores in test_chatgpt_true_scores:\n",
    "    test_scores.append(np.max(scores))\n",
    "qa_coverage = np.mean(np.array(test_scores) >= chatgpt_qa_thr)\n",
    "print('test retrieval coverage', retrieved_coverage)\n",
    "print('test qa coverage', qa_coverage)"
   ]
  },
  {
   "cell_type": "code",
   "execution_count": 104,
   "metadata": {
    "scrolled": false
   },
   "outputs": [
    {
     "name": "stdout",
     "output_type": "stream",
     "text": [
      "End-to-end coverage 0.9147286821705426\n"
     ]
    }
   ],
   "source": [
    "coverages = coverage(test_retrieved_true_scores, \n",
    "                    test_chatgpt_true_scores,\n",
    "                    retrieved_thr,\n",
    "                    chatgpt_qa_thr\n",
    "                   )\n",
    "print('End-to-end coverage', np.mean(coverages))"
   ]
  },
  {
   "cell_type": "markdown",
   "metadata": {},
   "source": [
    "## PAC-Bonf"
   ]
  },
  {
   "cell_type": "code",
   "execution_count": 105,
   "metadata": {},
   "outputs": [],
   "source": [
    "from pac_utils import find_maximum_train_error_allow"
   ]
  },
  {
   "cell_type": "code",
   "execution_count": 106,
   "metadata": {},
   "outputs": [
    {
     "name": "stdout",
     "output_type": "stream",
     "text": [
      "retrieval coverage 1.0\n",
      "qa coverage 1.0\n",
      "test retrieval coverage 1.0\n",
      "test qa coverage 1.0\n"
     ]
    }
   ],
   "source": [
    "delta = 0.1\n",
    "retrieve_alpha = find_maximum_train_error_allow(alpha/2.0, delta/2.0, len(cal_first_indices))\n",
    "qa_alpha = find_maximum_train_error_allow(alpha/2.0, delta/2.0, len(cal_first_indices))\n",
    "retrieved_thr = utils.compute_threshold(cal_first_retrieved_true_scores, alpha=retrieve_alpha)\n",
    "cal_first_scores = []\n",
    "for scores in cal_first_chatgpt_true_scores:\n",
    "    cal_first_scores.append(np.max(scores))\n",
    "chatgpt_qa_thr = utils.compute_threshold(cal_first_scores, alpha=qa_alpha)\n",
    "\n",
    "retrieved_coverage = np.mean(np.array(cal_second_retrieved_true_scores) >= retrieved_thr)\n",
    "cal_second_scores = []\n",
    "for scores in cal_second_chatgpt_true_scores:\n",
    "    cal_second_scores.append(np.max(scores))\n",
    "qa_coverage = np.mean(np.array(cal_second_scores) >= chatgpt_qa_thr)\n",
    "print('retrieval coverage', retrieved_coverage)\n",
    "print('qa coverage', qa_coverage)\n",
    "\n",
    "retrieved_coverage = np.mean(np.array(test_retrieved_true_scores) >= retrieved_thr)\n",
    "test_scores = []\n",
    "for scores in test_chatgpt_true_scores:\n",
    "    test_scores.append(np.max(scores))\n",
    "qa_coverage = np.mean(np.array(test_scores) >= chatgpt_qa_thr)\n",
    "print('test retrieval coverage', retrieved_coverage)\n",
    "print('test qa coverage', qa_coverage)"
   ]
  },
  {
   "cell_type": "code",
   "execution_count": 107,
   "metadata": {},
   "outputs": [
    {
     "name": "stdout",
     "output_type": "stream",
     "text": [
      "End-to-end coverage 1.0\n"
     ]
    }
   ],
   "source": [
    "coverages = coverage(test_retrieved_true_scores, \n",
    "                    test_chatgpt_true_scores,\n",
    "                    retrieved_thr,\n",
    "                    chatgpt_qa_thr\n",
    "                   )\n",
    "print('End-to-end coverage', np.mean(coverages))"
   ]
  },
  {
   "cell_type": "markdown",
   "metadata": {},
   "source": [
    "## Bayesian optimization"
   ]
  },
  {
   "cell_type": "code",
   "execution_count": 108,
   "metadata": {},
   "outputs": [],
   "source": [
    "from skopt.space import Real\n",
    "from skopt import gp_minimize\n",
    "from skopt.utils import use_named_args"
   ]
  },
  {
   "cell_type": "code",
   "execution_count": 109,
   "metadata": {},
   "outputs": [],
   "source": [
    "def evaluate(\n",
    "        test_retrieved_scores,\n",
    "        test_queries, test_answers, test_chatgpt_answers, \n",
    "        test_chatgpt_semantic_ids, test_chatgpt_probs,\n",
    "        retrieved_thr, chatgpt_qa_thr,\n",
    "        cluster=True, kernel=40, verbose=True):\n",
    "    \n",
    "    length = len(test_retrieved_scores)\n",
    "    lens = np.linspace(0, length, kernel+1)\n",
    "    test_retrieved_scores_list = [test_retrieved_scores[int(lens[i]):int(lens[i+1])] for i in range(kernel)]\n",
    "    test_chatgpt_semantic_ids_list = [test_chatgpt_semantic_ids[int(lens[i]):int(lens[i+1])] for i in range(kernel)]\n",
    "    test_chatgpt_probs_list = [test_chatgpt_probs[int(lens[i]):int(lens[i+1])] for i in range(kernel)]\n",
    "    test_answers_list = [test_answers[int(lens[i]):int(lens[i+1])] for i in range(kernel)]\n",
    "    \n",
    "    def run(i, shared_includes, shared_semantic_counts):\n",
    "        includes = []\n",
    "        semantics_total = []\n",
    "        coverages = []\n",
    "        for idx, (retrieved_scores_tmp, answers_tmp,\\\n",
    "                chatgpt_semantic_ids_tmp, chatgpt_probs_tmp) \\\n",
    "            in tqdm(enumerate(zip(\n",
    "                test_retrieved_scores_list[i], test_answers_list[i], \\\n",
    "                test_chatgpt_semantic_ids_list[i], test_chatgpt_probs_list[i])), total=len(test_retrieved_scores_list[i])):\n",
    "\n",
    "            include = False\n",
    "    #         coverage_tmp = coverage(retrieved_true_scores_tmp, \n",
    "    #                         [chatgpt_true_scores_tmp],\n",
    "    #                         retrieved_thr,\n",
    "    #                         chatgpt_qa_thr\n",
    "    #                        )[0]\n",
    "    #         coverages.append(coverage_tmp)\n",
    "            retrieved_count = 0\n",
    "            semantics = []\n",
    "            for retrieved_score, semantic_set_ids, probs in zip(retrieved_scores_tmp, chatgpt_semantic_ids_tmp, chatgpt_probs_tmp):\n",
    "                    if retrieved_score < retrieved_thr:\n",
    "                        continue\n",
    "                    else:\n",
    "                        retrieved_count += 1\n",
    "                        for predicted_answer in semantic_set_ids.keys():\n",
    "                            concept_id = semantic_set_ids[predicted_answer]\n",
    "                            prob = probs[concept_id]\n",
    "                            if prob >= chatgpt_qa_thr:\n",
    "                                semantics.append(predicted_answer)\n",
    "\n",
    "                                # TODO: check if the semantic is consistent with true answer\n",
    "                                if include is False:\n",
    "                                    for answer_tmp in answers_tmp:\n",
    "                                        scores = scorer.score(answer_tmp,\n",
    "                                                              predicted_answer)\n",
    "                                        scores = scores['rouge1'][2]\n",
    "                                        if scores >= 0.3:\n",
    "                                            include = True\n",
    "                                            break\n",
    "            if cluster:\n",
    "                semantic_set_ids, semantic_probs, item_occurance = \\\n",
    "                            utils.clustering(semantics, \"\", scorer=scorer)\n",
    "                semantic_counts.append(len(semantic_probs.keys()))\n",
    "            else:\n",
    "                semantic_counts.append(len(semantics))\n",
    "            semantics_total.append(semantic_set_ids)\n",
    "    #         answer_counts.append(retrieved_count)\n",
    "            includes.append(include)\n",
    "        shared_includes.value += np.sum(includes)\n",
    "        shared_semantic_counts.value += np.sum(semantic_counts)\n",
    "    \n",
    "    processes = []\n",
    "    shared_includes = Value('f', 0.0)\n",
    "    shared_semantic_counts = Value('f', 0.0)\n",
    "\n",
    "    for i in range(0, kernel):\n",
    "        p = multiprocessing.Process(target=run, args=(i, shared_includes, shared_semantic_counts))\n",
    "        processes.append(p)\n",
    "        p.start()\n",
    "\n",
    "    for process in processes:\n",
    "        process.join()\n",
    "        \n",
    "    return shared_includes.value/length, 0.0, shared_semantic_counts.value/length"
   ]
  },
  {
   "cell_type": "markdown",
   "metadata": {},
   "source": [
    "## Bonf method"
   ]
  },
  {
   "cell_type": "code",
   "execution_count": 110,
   "metadata": {},
   "outputs": [],
   "source": [
    "def softmax(vec):\n",
    "    nom = np.exp(vec - np.mean(vec))\n",
    "    return nom / np.sum(nom)"
   ]
  },
  {
   "cell_type": "code",
   "execution_count": 111,
   "metadata": {},
   "outputs": [
    {
     "name": "stdout",
     "output_type": "stream",
     "text": [
      "Iteration No: 1 started. Evaluating function at provided point.\n",
      "Iteration No: 1 ended. Evaluation done at provided point.\n",
      "Time taken: 1.7805\n",
      "Function value obtained: 12.5361\n",
      "Current minimum: 12.5361\n",
      "Iteration No: 2 started. Evaluating function at random point.\n",
      "Iteration No: 2 ended. Evaluation done at random point.\n",
      "Time taken: 1.7118\n",
      "Function value obtained: 12.5258\n",
      "Current minimum: 12.5258\n",
      "Iteration No: 3 started. Evaluating function at random point.\n",
      "Iteration No: 3 ended. Evaluation done at random point.\n",
      "Time taken: 0.7456\n",
      "Function value obtained: 9.4742\n",
      "Current minimum: 9.4742\n",
      "Iteration No: 4 started. Evaluating function at random point.\n",
      "Iteration No: 4 ended. Evaluation done at random point.\n",
      "Time taken: 2.9782\n",
      "Function value obtained: 14.4536\n",
      "Current minimum: 9.4742\n",
      "Iteration No: 5 started. Evaluating function at random point.\n",
      "Iteration No: 5 ended. Evaluation done at random point.\n",
      "Time taken: 3.0204\n",
      "Function value obtained: 14.5052\n",
      "Current minimum: 9.4742\n",
      "Iteration No: 6 started. Evaluating function at random point.\n",
      "Iteration No: 6 ended. Evaluation done at random point.\n",
      "Time taken: 2.9701\n",
      "Function value obtained: 14.4536\n",
      "Current minimum: 9.4742\n",
      "Iteration No: 7 started. Evaluating function at random point.\n",
      "Iteration No: 7 ended. Evaluation done at random point.\n",
      "Time taken: 2.9901\n",
      "Function value obtained: 14.5052\n",
      "Current minimum: 9.4742\n",
      "Iteration No: 8 started. Evaluating function at random point.\n",
      "Iteration No: 8 ended. Evaluation done at random point.\n",
      "Time taken: 2.9934\n",
      "Function value obtained: 14.5052\n",
      "Current minimum: 9.4742\n",
      "Iteration No: 9 started. Evaluating function at random point.\n",
      "Iteration No: 9 ended. Evaluation done at random point.\n",
      "Time taken: 0.7548\n",
      "Function value obtained: 9.4536\n",
      "Current minimum: 9.4536\n",
      "Iteration No: 10 started. Evaluating function at random point.\n",
      "Iteration No: 10 ended. Evaluation done at random point.\n",
      "Time taken: 0.9144\n",
      "Function value obtained: 10.2062\n",
      "Current minimum: 9.4536\n",
      "Iteration No: 11 started. Evaluating function at random point.\n",
      "Iteration No: 11 ended. Evaluation done at random point.\n",
      "Time taken: 1.9337\n",
      "Function value obtained: 12.5258\n",
      "Current minimum: 9.4536\n",
      "Iteration No: 12 started. Evaluating function at random point.\n",
      "Iteration No: 12 ended. Evaluation done at random point.\n",
      "Time taken: 0.9305\n",
      "Function value obtained: 9.4742\n",
      "Current minimum: 9.4536\n",
      "Iteration No: 13 started. Searching for the next optimal point.\n",
      "Iteration No: 13 ended. Search finished for the next optimal point.\n",
      "Time taken: 0.9186\n",
      "Function value obtained: 9.4536\n",
      "Current minimum: 9.4536\n",
      "Iteration No: 14 started. Searching for the next optimal point.\n",
      "Iteration No: 14 ended. Search finished for the next optimal point.\n",
      "Time taken: 0.8772\n",
      "Function value obtained: 9.4536\n",
      "Current minimum: 9.4536\n",
      "Iteration No: 15 started. Searching for the next optimal point.\n",
      "Iteration No: 15 ended. Search finished for the next optimal point.\n",
      "Time taken: 0.8789\n",
      "Function value obtained: 9.4536\n",
      "Current minimum: 9.4536\n",
      "Best fitness: 9.45360824742268\n",
      "Best parameters: [0.3678892 0.6321108]\n"
     ]
    }
   ],
   "source": [
    "\"\"\"\n",
    "Weight Bonf module\n",
    "\"\"\"\n",
    "w1 = Real(name='w1', low=0.0, high=1.0)\n",
    "w2 = Real(name='w2', low=0.0, high=1.0)\n",
    "\n",
    "\n",
    "\n",
    "# Gather the search-space dimensions in a list.\n",
    "dimensions = [w1, w2]\n",
    "\n",
    "@use_named_args(dimensions=dimensions)\n",
    "def objective(w1, w2):\n",
    "    weights = softmax(np.array([w1, w2])).reshape(-1, 1)\n",
    "    alpha_retrieve = alpha * weights[0]\n",
    "    alpha_qa = alpha * weights[1]\n",
    "    retrieved_thr = utils.compute_threshold(cal_first_retrieved_true_scores, alpha=alpha_retrieve)\n",
    "    cal_first_scores = []\n",
    "    for scores in cal_first_chatgpt_true_scores:\n",
    "        cal_first_scores.append(np.max(scores))\n",
    "    chatgpt_qa_thr = utils.compute_threshold(cal_first_scores, alpha=alpha_qa)\n",
    "    results = evaluate(cal_second_retrieved_scores, cal_second_queries, \n",
    "                       cal_second_answers, cal_second_chatgpt_answers, \\\n",
    "                       cal_second_chatgpt_semantic_ids, cal_second_chatgpt_occurances, \n",
    "                       retrieved_thr, chatgpt_qa_thr, \n",
    "                       cluster=True)\n",
    "    coverage = np.mean(results[0])\n",
    "    average_answer = np.mean(results[1])\n",
    "    average_semantic = np.mean(results[2])\n",
    "    return average_semantic\n",
    "\n",
    "result = gp_minimize(func=objective,\n",
    "                     dimensions=dimensions,\n",
    "                     acq_func=\"EI\",      # the acquisition function\n",
    "                     n_calls=15,\n",
    "                     random_state=seed,\n",
    "                     verbose=True,\n",
    "                     x0=[[1, 1]])\n",
    "\n",
    "print(\"Best fitness:\", result.fun)\n",
    "print(\"Best parameters:\", softmax(result.x))"
   ]
  },
  {
   "cell_type": "code",
   "execution_count": 112,
   "metadata": {},
   "outputs": [
    {
     "name": "stdout",
     "output_type": "stream",
     "text": [
      "CPU times: user 938 ms, sys: 0 ns, total: 938 ms\n",
      "Wall time: 954 ms\n"
     ]
    }
   ],
   "source": [
    "%%time\n",
    "weights = softmax(result.x).reshape(-1, 1)\n",
    "alpha_retrieve = alpha * weights[0]\n",
    "alpha_qa = alpha * weights[1]\n",
    "retrieved_thr = utils.compute_threshold(cal_first_retrieved_true_scores, alpha=alpha_retrieve)\n",
    "cal_first_scores = []\n",
    "for scores in cal_first_chatgpt_true_scores:\n",
    "    cal_first_scores.append(np.max(scores))\n",
    "chatgpt_qa_thr = utils.compute_threshold(cal_first_scores, alpha=alpha_qa)\n",
    "results = evaluate(\n",
    "    test_retrieved_scores, test_queries,\n",
    "    test_answers, test_chatgpt_answers, \n",
    "    test_chatgpt_occurances, test_chatgpt_semantic_ids,\n",
    "    retrieved_thr, chatgpt_qa_thr,\n",
    "    cluster=True)"
   ]
  },
  {
   "cell_type": "code",
   "execution_count": 113,
   "metadata": {},
   "outputs": [
    {
     "name": "stdout",
     "output_type": "stream",
     "text": [
      "Desired coverage rate 0.9\n",
      "Coverage 0.9302325581395349\n",
      "Average answer 351.5968992248062\n",
      "Average semantic 9.271317829457365\n"
     ]
    }
   ],
   "source": [
    "print('Desired coverage rate', 1-alpha)\n",
    "print('Coverage', np.mean(results[0]))\n",
    "print('Average answer', np.mean(results[1]))\n",
    "print('Average semantic', np.mean(results[2]))"
   ]
  },
  {
   "cell_type": "code",
   "execution_count": 114,
   "metadata": {},
   "outputs": [
    {
     "name": "stdout",
     "output_type": "stream",
     "text": [
      "CPU times: user 2.06 s, sys: 0 ns, total: 2.06 s\n",
      "Wall time: 2.08 s\n"
     ]
    }
   ],
   "source": [
    "%%time\n",
    "alpha_retrieve = alpha * (1/2.0)\n",
    "alpha_qa = alpha * (1/2.0)\n",
    "retrieved_thr = utils.compute_threshold(cal_first_retrieved_true_scores, alpha=alpha_retrieve)\n",
    "cal_first_scores = []\n",
    "for scores in cal_first_chatgpt_true_scores:\n",
    "    cal_first_scores.append(np.max(scores))\n",
    "chatgpt_qa_thr = utils.compute_threshold(cal_first_scores, alpha=alpha_qa)\n",
    "results = evaluate(\n",
    "    test_retrieved_scores, test_queries,\n",
    "    test_answers, test_chatgpt_answers, \n",
    "    test_chatgpt_occurances, test_chatgpt_semantic_ids,\n",
    "    retrieved_thr, chatgpt_qa_thr,\n",
    "    cluster=True)"
   ]
  },
  {
   "cell_type": "code",
   "execution_count": 115,
   "metadata": {},
   "outputs": [
    {
     "name": "stdout",
     "output_type": "stream",
     "text": [
      "Desired coverage rate 0.9\n",
      "Coverage 0.9534883720930233\n",
      "Average answer 387.93798449612405\n",
      "Average semantic 12.496124031007753\n"
     ]
    }
   ],
   "source": [
    "print('Desired coverage rate', 1-alpha)\n",
    "print('Coverage', np.mean(results[0]))\n",
    "print('Average answer', np.mean(results[1]))\n",
    "print('Average semantic', np.mean(results[2]))"
   ]
  },
  {
   "cell_type": "code",
   "execution_count": 116,
   "metadata": {},
   "outputs": [],
   "source": [
    "def evaluate_vanila(\n",
    "        test_retrieved_scores,\n",
    "        test_queries, test_answers, test_chatgpt_answers, \n",
    "        test_chatgpt_occurances, test_chatgpt_semantic_ids,\n",
    "        cluster=True):\n",
    "\n",
    "    includes = []\n",
    "    answer_counts = []\n",
    "    semantic_counts = []\n",
    "    includes = []\n",
    "    coverages = []\n",
    "    for idx, (retrieved_scores_tmp, \\\n",
    "            query_tmp, answers_tmp, chatgpt_answers_tmp, \\\n",
    "            chatgpt_true_scores_tmp, \\\n",
    "            chatgpt_occurances_tmp, chatgpt_semantic_ids_tmp) \\\n",
    "        in enumerate(zip(\n",
    "            test_retrieved_scores, \\\n",
    "            test_queries, test_answers, test_chatgpt_answers, \\\n",
    "            test_chatgpt_true_scores, \\\n",
    "            test_chatgpt_occurances, test_chatgpt_semantic_ids)):\n",
    "        include = False\n",
    "        retrieved_count = 0\n",
    "        semantics = []\n",
    "        for retrieved_score, answer, item_occurance, semantic_set_ids in zip(retrieved_scores_tmp, chatgpt_answers_tmp, chatgpt_occurances_tmp, chatgpt_semantic_ids_tmp):\n",
    "            retrieved_count += 1\n",
    "            for predicted_answer in semantic_set_ids.keys():\n",
    "                concept_id = semantic_set_ids[predicted_answer]\n",
    "                repeat = item_occurance[predicted_answer]\n",
    "                prob = repeat / len(answer)\n",
    "                semantics.append(predicted_answer) \n",
    "                # TODO: check if the semantic is consistent with true answer\n",
    "                if include is False:\n",
    "                    for answer_tmp in answers_tmp:\n",
    "                        scores = scorer.score(answer_tmp,\n",
    "                                              predicted_answer)\n",
    "                        scores = scores['rouge1'][2]\n",
    "                        if scores >= 0.3:\n",
    "                            include = True\n",
    "                            break\n",
    "            break\n",
    "        if cluster:\n",
    "            semantic_set_ids, semantic_probs, item_occurance = \\\n",
    "                        utils.clustering(semantics, \"\", scorer=scorer)\n",
    "            semantic_counts.append(len(semantic_probs.keys()))\n",
    "        else:\n",
    "            semantic_counts.append(len(semantics))\n",
    "        answer_counts.append(retrieved_count)\n",
    "        includes.append(include)\n",
    "    return [includes, answer_counts, semantic_counts]"
   ]
  },
  {
   "cell_type": "code",
   "execution_count": 117,
   "metadata": {},
   "outputs": [
    {
     "name": "stdout",
     "output_type": "stream",
     "text": [
      "CPU times: user 4.53 s, sys: 0 ns, total: 4.53 s\n",
      "Wall time: 4.53 s\n"
     ]
    }
   ],
   "source": [
    "%%time\n",
    "results = evaluate_vanila(\n",
    "    test_retrieved_scores, test_queries,\n",
    "    test_answers, test_chatgpt_answers, \n",
    "    test_chatgpt_occurances, test_chatgpt_semantic_ids,\n",
    "    cluster=True)"
   ]
  },
  {
   "cell_type": "code",
   "execution_count": 118,
   "metadata": {},
   "outputs": [
    {
     "name": "stdout",
     "output_type": "stream",
     "text": [
      "Desired coverage rate 0.9\n",
      "Coverage 0.7131782945736435\n",
      "Average semantic 3.689922480620155\n"
     ]
    }
   ],
   "source": [
    "print('Desired coverage rate', 1-alpha)\n",
    "print('Coverage', np.mean(results[0]))\n",
    "# print('Average answer', np.mean(results[1]))\n",
    "print('Average semantic', np.mean(results[2]))"
   ]
  },
  {
   "cell_type": "markdown",
   "metadata": {},
   "source": [
    "## PAC-Bonf method"
   ]
  },
  {
   "cell_type": "code",
   "execution_count": 119,
   "metadata": {},
   "outputs": [
    {
     "ename": "KeyboardInterrupt",
     "evalue": "",
     "output_type": "error",
     "traceback": [
      "\u001b[0;31m---------------------------------------------------------------------------\u001b[0m",
      "\u001b[0;31mKeyboardInterrupt\u001b[0m                         Traceback (most recent call last)",
      "Cell \u001b[0;32mIn[119], line 13\u001b[0m\n\u001b[1;32m     11\u001b[0m     cal_first_scores\u001b[38;5;241m.\u001b[39mappend(np\u001b[38;5;241m.\u001b[39mmax(scores))\n\u001b[1;32m     12\u001b[0m chatgpt_qa_thr \u001b[38;5;241m=\u001b[39m utils\u001b[38;5;241m.\u001b[39mcompute_threshold(cal_first_scores, alpha\u001b[38;5;241m=\u001b[39malpha_qa_pac)\n\u001b[0;32m---> 13\u001b[0m results \u001b[38;5;241m=\u001b[39m \u001b[43mevaluate\u001b[49m\u001b[43m(\u001b[49m\n\u001b[1;32m     14\u001b[0m \u001b[43m    \u001b[49m\u001b[43mtest_retrieved_scores\u001b[49m\u001b[43m,\u001b[49m\u001b[43m \u001b[49m\u001b[43mtest_queries\u001b[49m\u001b[43m,\u001b[49m\n\u001b[1;32m     15\u001b[0m \u001b[43m    \u001b[49m\u001b[43mtest_answers\u001b[49m\u001b[43m,\u001b[49m\u001b[43m \u001b[49m\u001b[43mtest_chatgpt_answers\u001b[49m\u001b[43m,\u001b[49m\u001b[43m \u001b[49m\n\u001b[1;32m     16\u001b[0m \u001b[43m    \u001b[49m\u001b[43mtest_chatgpt_occurances\u001b[49m\u001b[43m,\u001b[49m\u001b[43m \u001b[49m\u001b[43mtest_chatgpt_semantic_ids\u001b[49m\u001b[43m,\u001b[49m\n\u001b[1;32m     17\u001b[0m \u001b[43m    \u001b[49m\u001b[43mretrieved_thr\u001b[49m\u001b[43m,\u001b[49m\u001b[43m \u001b[49m\u001b[43mchatgpt_qa_thr\u001b[49m\u001b[43m,\u001b[49m\n\u001b[1;32m     18\u001b[0m \u001b[43m    \u001b[49m\u001b[43mcluster\u001b[49m\u001b[38;5;241;43m=\u001b[39;49m\u001b[38;5;28;43;01mTrue\u001b[39;49;00m\u001b[43m)\u001b[49m\n",
      "Cell \u001b[0;32mIn[109], line 48\u001b[0m, in \u001b[0;36mevaluate\u001b[0;34m(test_retrieved_scores, test_queries, test_answers, test_chatgpt_answers, test_chatgpt_occurances, test_chatgpt_semantic_ids, retrieved_thr, chatgpt_qa_thr, cluster)\u001b[0m\n\u001b[1;32m     45\u001b[0m                             \u001b[38;5;28;01mbreak\u001b[39;00m\n\u001b[1;32m     46\u001b[0m \u001b[38;5;28;01mif\u001b[39;00m cluster:\n\u001b[1;32m     47\u001b[0m     semantic_set_ids, semantic_probs, item_occurance \u001b[38;5;241m=\u001b[39m \\\n\u001b[0;32m---> 48\u001b[0m                 \u001b[43mutils\u001b[49m\u001b[38;5;241;43m.\u001b[39;49m\u001b[43mclustering\u001b[49m\u001b[43m(\u001b[49m\u001b[43msemantics\u001b[49m\u001b[43m,\u001b[49m\u001b[43m \u001b[49m\u001b[38;5;124;43m\"\u001b[39;49m\u001b[38;5;124;43m\"\u001b[39;49m\u001b[43m,\u001b[49m\u001b[43m \u001b[49m\u001b[43mscorer\u001b[49m\u001b[38;5;241;43m=\u001b[39;49m\u001b[43mscorer\u001b[49m\u001b[43m)\u001b[49m\n\u001b[1;32m     49\u001b[0m     semantic_counts\u001b[38;5;241m.\u001b[39mappend(\u001b[38;5;28mlen\u001b[39m(semantic_probs\u001b[38;5;241m.\u001b[39mkeys()))\n\u001b[1;32m     50\u001b[0m \u001b[38;5;28;01melse\u001b[39;00m:\n",
      "File \u001b[0;32m~/retriever_uncertainty/TRAC/utils.py:600\u001b[0m, in \u001b[0;36mclustering\u001b[0;34m(sequences, prompt, semantic_model, semantic_tokenizer, scorer, semantic)\u001b[0m\n\u001b[1;32m    591\u001b[0m         semantic_set_ids, semantic_probs, item_occurance \u001b[38;5;241m=\u001b[39m \\\n\u001b[1;32m    592\u001b[0m             compute_semantic_clusterring(\n\u001b[1;32m    593\u001b[0m                 semantic_model, \n\u001b[0;32m   (...)\u001b[0m\n\u001b[1;32m    596\u001b[0m                 sequences,\n\u001b[1;32m    597\u001b[0m             )\n\u001b[1;32m    598\u001b[0m \u001b[38;5;28;01melse\u001b[39;00m:\n\u001b[1;32m    599\u001b[0m     semantic_set_ids, semantic_probs, item_occurance \u001b[38;5;241m=\u001b[39m \\\n\u001b[0;32m--> 600\u001b[0m         \u001b[43mcompute_keyword_clusterring\u001b[49m\u001b[43m(\u001b[49m\n\u001b[1;32m    601\u001b[0m \u001b[43m            \u001b[49m\u001b[43msequences\u001b[49m\u001b[43m,\u001b[49m\n\u001b[1;32m    602\u001b[0m \u001b[43m            \u001b[49m\u001b[43mscorer\u001b[49m\n\u001b[1;32m    603\u001b[0m \u001b[43m        \u001b[49m\u001b[43m)\u001b[49m\n\u001b[1;32m    604\u001b[0m \u001b[38;5;28;01mreturn\u001b[39;00m semantic_set_ids, semantic_probs, item_occurance\n",
      "File \u001b[0;32m~/retriever_uncertainty/TRAC/utils.py:305\u001b[0m, in \u001b[0;36mcompute_keyword_clusterring\u001b[0;34m(answers, scorer)\u001b[0m\n\u001b[1;32m    302\u001b[0m \u001b[38;5;28;01mfor\u001b[39;00m i, reference_answer \u001b[38;5;129;01min\u001b[39;00m \u001b[38;5;28menumerate\u001b[39m(unique_generated_texts):\n\u001b[1;32m    303\u001b[0m     \u001b[38;5;28;01mfor\u001b[39;00m j \u001b[38;5;129;01min\u001b[39;00m \u001b[38;5;28mrange\u001b[39m(i \u001b[38;5;241m+\u001b[39m \u001b[38;5;241m1\u001b[39m, \u001b[38;5;28mlen\u001b[39m(unique_generated_texts)):\n\u001b[0;32m--> 305\u001b[0m         scores \u001b[38;5;241m=\u001b[39m \u001b[43mscorer\u001b[49m\u001b[38;5;241;43m.\u001b[39;49m\u001b[43mscore\u001b[49m\u001b[43m(\u001b[49m\u001b[43munique_generated_texts\u001b[49m\u001b[43m[\u001b[49m\u001b[43mi\u001b[49m\u001b[43m]\u001b[49m\u001b[43m,\u001b[49m\u001b[43m \u001b[49m\n\u001b[1;32m    306\u001b[0m \u001b[43m                              \u001b[49m\u001b[43munique_generated_texts\u001b[49m\u001b[43m[\u001b[49m\u001b[43mj\u001b[49m\u001b[43m]\u001b[49m\u001b[43m)\u001b[49m\n\u001b[1;32m    307\u001b[0m         scores \u001b[38;5;241m=\u001b[39m scores[\u001b[38;5;124m'\u001b[39m\u001b[38;5;124mrouge1\u001b[39m\u001b[38;5;124m'\u001b[39m][\u001b[38;5;241m2\u001b[39m]\n\u001b[1;32m    308\u001b[0m         \u001b[38;5;28;01mif\u001b[39;00m scores \u001b[38;5;241m>\u001b[39m \u001b[38;5;241m0.7\u001b[39m:\n",
      "File \u001b[0;32m~/anaconda3/envs/TRAC/lib/python3.9/site-packages/rouge_score/rouge_scorer.py:160\u001b[0m, in \u001b[0;36mRougeScorer.score\u001b[0;34m(self, target, prediction)\u001b[0m\n\u001b[1;32m    158\u001b[0m     \u001b[38;5;28;01mraise\u001b[39;00m \u001b[38;5;167;01mValueError\u001b[39;00m(\u001b[38;5;124m\"\u001b[39m\u001b[38;5;124mrougen requires positive n: \u001b[39m\u001b[38;5;132;01m%s\u001b[39;00m\u001b[38;5;124m\"\u001b[39m \u001b[38;5;241m%\u001b[39m rouge_type)\n\u001b[1;32m    159\u001b[0m   target_ngrams \u001b[38;5;241m=\u001b[39m _create_ngrams(target_tokens, n)\n\u001b[0;32m--> 160\u001b[0m   prediction_ngrams \u001b[38;5;241m=\u001b[39m \u001b[43m_create_ngrams\u001b[49m\u001b[43m(\u001b[49m\u001b[43mprediction_tokens\u001b[49m\u001b[43m,\u001b[49m\u001b[43m \u001b[49m\u001b[43mn\u001b[49m\u001b[43m)\u001b[49m\n\u001b[1;32m    161\u001b[0m   scores \u001b[38;5;241m=\u001b[39m _score_ngrams(target_ngrams, prediction_ngrams)\n\u001b[1;32m    162\u001b[0m \u001b[38;5;28;01melse\u001b[39;00m:\n",
      "File \u001b[0;32m~/anaconda3/envs/TRAC/lib/python3.9/site-packages/rouge_score/rouge_scorer.py:180\u001b[0m, in \u001b[0;36m_create_ngrams\u001b[0;34m(tokens, n)\u001b[0m\n\u001b[1;32m    170\u001b[0m \u001b[38;5;250m\u001b[39m\u001b[38;5;124;03m\"\"\"Creates ngrams from the given list of tokens.\u001b[39;00m\n\u001b[1;32m    171\u001b[0m \n\u001b[1;32m    172\u001b[0m \u001b[38;5;124;03mArgs:\u001b[39;00m\n\u001b[0;32m   (...)\u001b[0m\n\u001b[1;32m    176\u001b[0m \u001b[38;5;124;03m  A dictionary mapping each bigram to the number of occurrences.\u001b[39;00m\n\u001b[1;32m    177\u001b[0m \u001b[38;5;124;03m\"\"\"\u001b[39;00m\n\u001b[1;32m    179\u001b[0m ngrams \u001b[38;5;241m=\u001b[39m collections\u001b[38;5;241m.\u001b[39mCounter()\n\u001b[0;32m--> 180\u001b[0m \u001b[38;5;28;01mfor\u001b[39;00m ngram \u001b[38;5;129;01min\u001b[39;00m (\u001b[38;5;28mtuple\u001b[39m(tokens[i:i \u001b[38;5;241m+\u001b[39m n]) \u001b[38;5;28;01mfor\u001b[39;00m i \u001b[38;5;129;01min\u001b[39;00m \u001b[38;5;28mrange\u001b[39m(\u001b[38;5;28mlen\u001b[39m(tokens) \u001b[38;5;241m-\u001b[39m n \u001b[38;5;241m+\u001b[39m \u001b[38;5;241m1\u001b[39m)):\n\u001b[1;32m    181\u001b[0m   ngrams[ngram] \u001b[38;5;241m+\u001b[39m\u001b[38;5;241m=\u001b[39m \u001b[38;5;241m1\u001b[39m\n\u001b[1;32m    182\u001b[0m \u001b[38;5;28;01mreturn\u001b[39;00m ngrams\n",
      "File \u001b[0;32m~/anaconda3/envs/TRAC/lib/python3.9/site-packages/rouge_score/rouge_scorer.py:180\u001b[0m, in \u001b[0;36m<genexpr>\u001b[0;34m(.0)\u001b[0m\n\u001b[1;32m    170\u001b[0m \u001b[38;5;250m\u001b[39m\u001b[38;5;124;03m\"\"\"Creates ngrams from the given list of tokens.\u001b[39;00m\n\u001b[1;32m    171\u001b[0m \n\u001b[1;32m    172\u001b[0m \u001b[38;5;124;03mArgs:\u001b[39;00m\n\u001b[0;32m   (...)\u001b[0m\n\u001b[1;32m    176\u001b[0m \u001b[38;5;124;03m  A dictionary mapping each bigram to the number of occurrences.\u001b[39;00m\n\u001b[1;32m    177\u001b[0m \u001b[38;5;124;03m\"\"\"\u001b[39;00m\n\u001b[1;32m    179\u001b[0m ngrams \u001b[38;5;241m=\u001b[39m collections\u001b[38;5;241m.\u001b[39mCounter()\n\u001b[0;32m--> 180\u001b[0m \u001b[38;5;28;01mfor\u001b[39;00m ngram \u001b[38;5;129;01min\u001b[39;00m (\u001b[38;5;28mtuple\u001b[39m(\u001b[43mtokens\u001b[49m\u001b[43m[\u001b[49m\u001b[43mi\u001b[49m\u001b[43m:\u001b[49m\u001b[43mi\u001b[49m\u001b[43m \u001b[49m\u001b[38;5;241;43m+\u001b[39;49m\u001b[43m \u001b[49m\u001b[43mn\u001b[49m\u001b[43m]\u001b[49m) \u001b[38;5;28;01mfor\u001b[39;00m i \u001b[38;5;129;01min\u001b[39;00m \u001b[38;5;28mrange\u001b[39m(\u001b[38;5;28mlen\u001b[39m(tokens) \u001b[38;5;241m-\u001b[39m n \u001b[38;5;241m+\u001b[39m \u001b[38;5;241m1\u001b[39m)):\n\u001b[1;32m    181\u001b[0m   ngrams[ngram] \u001b[38;5;241m+\u001b[39m\u001b[38;5;241m=\u001b[39m \u001b[38;5;241m1\u001b[39m\n\u001b[1;32m    182\u001b[0m \u001b[38;5;28;01mreturn\u001b[39;00m ngrams\n",
      "\u001b[0;31mKeyboardInterrupt\u001b[0m: "
     ]
    }
   ],
   "source": [
    "alpha_retrieve = alpha * (1/2.0)\n",
    "alpha_qa = alpha * (1/2.0)\n",
    "\n",
    "delta = 0.1\n",
    "alpha_retrieve_pac = find_maximum_train_error_allow(alpha_retrieve, delta/2.0, len(cal_first_indices))\n",
    "alpha_qa_pac = find_maximum_train_error_allow(alpha_qa, delta/2.0, len(cal_first_indices))\n",
    "\n",
    "retrieved_thr = utils.compute_threshold(cal_first_retrieved_true_scores, alpha=alpha_retrieve_pac)\n",
    "cal_first_scores = []\n",
    "for scores in cal_first_chatgpt_true_scores:\n",
    "    cal_first_scores.append(np.max(scores))\n",
    "chatgpt_qa_thr = utils.compute_threshold(cal_first_scores, alpha=alpha_qa_pac)\n",
    "results = evaluate(\n",
    "    test_retrieved_scores, test_queries,\n",
    "    test_answers, test_chatgpt_answers, \n",
    "    test_chatgpt_occurances, test_chatgpt_semantic_ids,\n",
    "    retrieved_thr, chatgpt_qa_thr,\n",
    "    cluster=True)"
   ]
  },
  {
   "cell_type": "code",
   "execution_count": null,
   "metadata": {},
   "outputs": [],
   "source": [
    "print('Desired coverage rate', 1-alpha)\n",
    "print('Coverage', np.mean(results[0]))\n",
    "print('Average answer', np.mean(results[1]))\n",
    "print('Average semantic', np.mean(results[2]))"
   ]
  },
  {
   "cell_type": "code",
   "execution_count": null,
   "metadata": {},
   "outputs": [],
   "source": []
  }
 ],
 "metadata": {
  "kernelspec": {
   "display_name": "Python 3 (ipykernel)",
   "language": "python",
   "name": "python3"
  },
  "language_info": {
   "codemirror_mode": {
    "name": "ipython",
    "version": 3
   },
   "file_extension": ".py",
   "mimetype": "text/x-python",
   "name": "python",
   "nbconvert_exporter": "python",
   "pygments_lexer": "ipython3",
   "version": "3.9.0"
  }
 },
 "nbformat": 4,
 "nbformat_minor": 2
}
