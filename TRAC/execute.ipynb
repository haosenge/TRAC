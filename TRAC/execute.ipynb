{
 "cells": [
  {
   "cell_type": "code",
   "execution_count": null,
   "metadata": {},
   "outputs": [],
   "source": [
    "import json\n",
    "import argparse\n",
    "\n",
    "from kilt import retrieval\n",
    "from kilt import kilt_utils as utils\n",
    "import tasks"
   ]
  },
  {
   "cell_type": "code",
   "execution_count": null,
   "metadata": {},
   "outputs": [],
   "source": [
    "from kilt.retrievers import DPR_connector\n",
    "\n",
    "retriever = DPR_connector.DPR.from_config_file(\n",
    "    \"dpr\", \"kilt/configs/retriever/default_dpr.json\"\n",
    ")"
   ]
  },
  {
   "cell_type": "code",
   "execution_count": null,
   "metadata": {},
   "outputs": [],
   "source": [
    "dataset = tasks.RQA(task='FEVER')\n",
    "retriever.feed_data(dataset.query_data)\n",
    "provenance = retriever.run()"
   ]
  },
  {
   "cell_type": "code",
   "execution_count": null,
   "metadata": {},
   "outputs": [],
   "source": [
    "for element in elements:\n",
    "    query = element['input']\n",
    "    query_id = element['id']\n",
    "    answers = [ans['answer'] for ans in element['output']]\n",
    "    wiki_ids = [[wiki['wikipedia_id'] for wiki in ans['provenance']] for ans in element['output']]\n",
    "    ids = []\n",
    "    for wiki_id in wiki_ids:\n",
    "        ids.extend(wiki_id)\n",
    "    retrieved = provenance[query_id]\n",
    "    retrieved_ids = [ans['wikipedia_id'] for ans in retrieved]\n",
    "    retrieved_texts = [ans['text'] for ans in retrieved]\n",
    "    convert = utils.convert_list_to_dict(retrieved)\n",
    "    \n",
    "#     print(query_id)\n",
    "#     print(answers)\n",
    "#     print(ids)\n",
    "    scores = [convert[id] for id in ids if id in convert]\n",
    "    print(scores)"
   ]
  },
  {
   "cell_type": "code",
   "execution_count": null,
   "metadata": {},
   "outputs": [],
   "source": [
    "import utils "
   ]
  },
  {
   "cell_type": "code",
   "execution_count": null,
   "metadata": {},
   "outputs": [],
   "source": [
    "prompt = utils.get_prompt_template(query, retrieved_texts[0], task='fever')"
   ]
  },
  {
   "cell_type": "code",
   "execution_count": null,
   "metadata": {},
   "outputs": [],
   "source": [
    "import opensource"
   ]
  },
  {
   "cell_type": "code",
   "execution_count": null,
   "metadata": {},
   "outputs": [],
   "source": [
    "pipeline, tokenizer = opensource.setup_openmodel()"
   ]
  },
  {
   "cell_type": "code",
   "execution_count": null,
   "metadata": {},
   "outputs": [],
   "source": [
    "sequences = opensource.ask_openmodel(prompt, pipeline, tokenizer)"
   ]
  },
  {
   "cell_type": "code",
   "execution_count": null,
   "metadata": {},
   "outputs": [],
   "source": [
    "for seq in sequences:\n",
    "    print(f\"Result: {seq['generated_text']}\")"
   ]
  }
 ],
 "metadata": {
  "kernelspec": {
   "display_name": "Python 3",
   "language": "python",
   "name": "python3"
  },
  "language_info": {
   "codemirror_mode": {
    "name": "ipython",
    "version": 3
   },
   "file_extension": ".py",
   "mimetype": "text/x-python",
   "name": "python",
   "nbconvert_exporter": "python",
   "pygments_lexer": "ipython3",
   "version": "3.7.16"
  }
 },
 "nbformat": 4,
 "nbformat_minor": 2
}
