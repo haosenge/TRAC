{
 "cells": [
  {
   "cell_type": "code",
   "execution_count": 1,
   "metadata": {},
   "outputs": [],
   "source": [
    "import json\n",
    "import argparse\n",
    "\n",
    "from kilt import retrieval\n",
    "from kilt import kilt_utils as utils"
   ]
  },
  {
   "cell_type": "code",
   "execution_count": 4,
   "metadata": {},
   "outputs": [
    {
     "ename": "NameError",
     "evalue": "name 'args' is not defined",
     "output_type": "error",
     "traceback": [
      "\u001b[0;31m---------------------------------------------------------------------------\u001b[0m",
      "\u001b[0;31mNameError\u001b[0m                                 Traceback (most recent call last)",
      "\u001b[0;32m<ipython-input-4-ff37309621c2>\u001b[0m in \u001b[0;36m<module>\u001b[0;34m\u001b[0m\n\u001b[1;32m      4\u001b[0m \u001b[0;34m\u001b[0m\u001b[0m\n\u001b[1;32m      5\u001b[0m \u001b[0;31m# create a new directory to log and store results\u001b[0m\u001b[0;34m\u001b[0m\u001b[0;34m\u001b[0m\u001b[0;34m\u001b[0m\u001b[0m\n\u001b[0;32m----> 6\u001b[0;31m \u001b[0mlog_directory\u001b[0m \u001b[0;34m=\u001b[0m \u001b[0mutils\u001b[0m\u001b[0;34m.\u001b[0m\u001b[0mcreate_logdir_with_timestamp\u001b[0m\u001b[0;34m(\u001b[0m\u001b[0margs\u001b[0m\u001b[0;34m.\u001b[0m\u001b[0mlogdir\u001b[0m\u001b[0;34m)\u001b[0m\u001b[0;34m\u001b[0m\u001b[0;34m\u001b[0m\u001b[0m\n\u001b[0m\u001b[1;32m      7\u001b[0m \u001b[0mlogger\u001b[0m \u001b[0;34m=\u001b[0m \u001b[0;32mNone\u001b[0m\u001b[0;34m\u001b[0m\u001b[0;34m\u001b[0m\u001b[0m\n\u001b[1;32m      8\u001b[0m \u001b[0;34m\u001b[0m\u001b[0m\n",
      "\u001b[0;31mNameError\u001b[0m: name 'args' is not defined"
     ]
    }
   ],
   "source": [
    " # load configs\n",
    "with open(\"../kilt/configs/test_data.json\", \"r\") as fin:\n",
    "    test_config_json = json.load(fin)\n",
    "\n",
    "# create a new directory to log and store results\n",
    "# log_directory = utils.create_logdir_with_timestamp(args.logdir)\n",
    "# logger = None\n",
    "\n",
    "# logger = utils.init_logging(log_directory, args.model_name, logger)\n",
    "# logger.info(\"loading {} ...\".format(args.model_name))\n",
    "\n",
    "if args.model_name == \"drqa\":\n",
    "    # DrQA tf-idf\n",
    "    from kilt.retrievers import DrQA_tfidf\n",
    "\n",
    "    if args.model_configuration:\n",
    "        retriever = DrQA_tfidf.DrQA.from_config_file(\n",
    "            args.model_name, args.model_configuration\n",
    "        )\n",
    "    else:\n",
    "        retriever = DrQA_tfidf.DrQA.from_default_config(args.model_name)\n",
    "elif args.model_name == \"dpr\":\n",
    "    # DPR\n",
    "    from kilt.retrievers import DPR_connector\n",
    "\n",
    "    if args.model_configuration:\n",
    "        retriever = DPR_connector.DPR.from_config_file(\n",
    "            args.model_name, args.model_configuration\n",
    "        )\n",
    "    else:\n",
    "        retriever = DPR_connector.DPR.from_default_config(args.model_name)\n",
    "elif args.model_name == \"dpr_distr\":\n",
    "    # DPR distributed\n",
    "    from kilt.retrievers import DPR_distr_connector\n",
    "\n",
    "    if args.model_configuration:\n",
    "        retriever = DPR_distr_connector.DPR.from_config_file(\n",
    "            args.model_name, args.model_configuration\n",
    "        )\n",
    "    else:\n",
    "        raise \"No default configuration for DPR distributed!\"\n",
    "elif args.model_name == \"blink\":\n",
    "    # BLINK\n",
    "    from kilt.retrievers import BLINK_connector\n",
    "\n",
    "    if args.model_configuration:\n",
    "        retriever = BLINK_connector.BLINK.from_config_file(\n",
    "            args.model_name, args.model_configuration\n",
    "        )\n",
    "    else:\n",
    "        retriever = BLINK_connector.BLINK.from_default_config(args.model_name)\n",
    "elif args.model_name == \"bm25\":\n",
    "    # BM25\n",
    "    from kilt.retrievers import BM25_connector\n",
    "\n",
    "    if args.model_configuration:\n",
    "        retriever = BM25_connector.BM25.from_config_file(\n",
    "            args.model_name, args.model_configuration\n",
    "        )\n",
    "    else:\n",
    "        retriever = BM25_connector.BM25.from_default_config(args.model_name)\n",
    "else:\n",
    "    raise ValueError(\"unknown retriever model\")"
   ]
  },
  {
   "cell_type": "code",
   "execution_count": null,
   "metadata": {},
   "outputs": [],
   "source": []
  }
 ],
 "metadata": {
  "kernelspec": {
   "display_name": "kilt37",
   "language": "python",
   "name": "python3"
  },
  "language_info": {
   "codemirror_mode": {
    "name": "ipython",
    "version": 3
   },
   "file_extension": ".py",
   "mimetype": "text/x-python",
   "name": "python",
   "nbconvert_exporter": "python",
   "pygments_lexer": "ipython3",
   "version": "3.7.16"
  },
  "orig_nbformat": 4
 },
 "nbformat": 4,
 "nbformat_minor": 2
}
