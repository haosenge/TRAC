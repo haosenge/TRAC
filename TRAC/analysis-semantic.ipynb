{
 "cells": [
  {
   "cell_type": "markdown",
   "metadata": {},
   "source": [
    "## Import necessary packages"
   ]
  },
  {
   "cell_type": "code",
   "execution_count": 2,
   "metadata": {},
   "outputs": [],
   "source": [
    "import os\n",
    "os.environ[\"CUDA_VISIBLE_DEVICES\"]=\"4,5,6,7\"\n",
    "from kilt import retrieval\n",
    "from kilt import kilt_utils as utils\n",
    "import tasks\n",
    "# from kilt.retrievers import DPR_connector\n",
    "import utils\n",
    "from rouge_score import rouge_scorer\n",
    "import random\n",
    "import numpy as np\n",
    "import torch\n",
    "torch.set_grad_enabled(False)\n",
    "from transformers import DPRContextEncoder, DPRContextEncoderTokenizer\n",
    "from transformers import DPRQuestionEncoder, DPRQuestionEncoderTokenizer\n",
    "from datasets import load_dataset\n",
    "import json\n",
    "from tqdm import tqdm\n",
    "import opensource\n",
    "\n",
    "np.random.seed(21)"
   ]
  },
  {
   "cell_type": "code",
   "execution_count": 3,
   "metadata": {},
   "outputs": [],
   "source": [
    "import pickle\n",
    "def write_list(a_list, file_name):\n",
    "    # store list in binary file so 'wb' mode\n",
    "    with open(file_name, 'wb') as fp:\n",
    "        pickle.dump(a_list, fp)\n",
    "        print('Done writing list into a binary file')\n",
    "def read_list(file_name):\n",
    "    # for reading also binary mode is important\n",
    "    with open(file_name, 'rb') as fp:\n",
    "        n_list = pickle.load(fp)\n",
    "        return n_list\n",
    "\n",
    "def save_results(task):\n",
    "    # save retrieved_scores to a pickle file\n",
    "    write_list(retrieved_scores, f'retrieved_scores_{task}.p')\n",
    "    # save retrieved_true_scores to a pickle file\n",
    "    write_list(retrieved_true_scores, f'retrieved_true_scores_{task}.p')\n",
    "    # save queries to a pickle file\n",
    "    write_list(queries, f'queries_{task}.p')\n",
    "    # save answers to a pickle file\n",
    "    write_list(answers, f'answers_{task}.p')\n",
    "    # save passages to a pickle file\n",
    "    write_list(passages, f'passages_{task}.p')\n",
    "    # save opensource_true_scores to a pickle file\n",
    "    write_list(opensource_true_scores, f'opensource_true_scores_{task}.p')\n",
    "    # save opensource_texts to a ickle file\n",
    "#     write_list(opensource_texts, f'opensource_texts_{task}.p')\n",
    "    # save opensource_answers to a pickle file\n",
    "    write_list(opensource_answers, f'opensource_answers_{task}.p')\n",
    "    # save opensource_semantics to a picle file\n",
    "    write_list(opensource_semantics, f'opensource_semantics_{task}.p')\n",
    "    # save feasibilities to a pickle file\n",
    "    write_list(feasibilities, f'feasibilities_{task}.p')\n",
    "    # save occurances to a pickle file\n",
    "    write_list(occurances, f'occurances_{task}.p')\n",
    "    # save semantic_ids to a pickle file\n",
    "    write_list(semantic_ids, f'semantic_ids_{task}.p')\n",
    "\n",
    "def read_results(task, end=None):\n",
    "    retrieved_scores = read_list(f'retrieved_scores_{task}.p')[:end]\n",
    "    retrieved_true_scores = read_list(f'retrieved_true_scores_{task}.p')[:end]\n",
    "    queries = read_list(f'queries_{task}.p')[:end]\n",
    "    answers = read_list(f'answers_{task}.p')[:end]\n",
    "    opensource_true_scores = read_list(f'opensource_true_scores_{task}.p')[:end]\n",
    "    opensource_answers = read_list(f'opensource_answers_{task}.p')[:end]\n",
    "    opensource_semantics = read_list(f'opensource_semantics_{task}.p')[:end]\n",
    "    opensource_occurances = read_list(f'occurances_{task}.p')[:end]\n",
    "    opensource_semantic_ids = read_list(f'semantic_ids_{task}.p')[:end]\n",
    "    \n",
    "    return retrieved_scores, retrieved_true_scores, \\\n",
    "           queries, answers, \\\n",
    "           opensource_true_scores, opensource_answers, \\\n",
    "           opensource_occurances, opensource_semantic_ids"
   ]
  },
  {
   "cell_type": "code",
   "execution_count": 4,
   "metadata": {},
   "outputs": [],
   "source": [
    "task = 'nq'"
   ]
  },
  {
   "cell_type": "code",
   "execution_count": 5,
   "metadata": {},
   "outputs": [
    {
     "name": "stderr",
     "output_type": "stream",
     "text": [
      "Some weights of the model checkpoint at microsoft/deberta-large-mnli were not used when initializing DebertaForSequenceClassification: ['config']\n",
      "- This IS expected if you are initializing DebertaForSequenceClassification from the checkpoint of a model trained on another task or with another architecture (e.g. initializing a BertForSequenceClassification model from a BertForPreTraining model).\n",
      "- This IS NOT expected if you are initializing DebertaForSequenceClassification from the checkpoint of a model that you expect to be exactly identical (initializing a BertForSequenceClassification model from a BertForSequenceClassification model).\n"
     ]
    }
   ],
   "source": [
    "semantic = True\n",
    "scorer = rouge_scorer.RougeScorer([\"rouge1\", \"rouge2\", \"rougeL\"],\n",
    "                                        use_stemmer=True)\n",
    "if semantic:\n",
    "    from transformers import AutoModelForSequenceClassification, AutoTokenizer\n",
    "    # setup semantic model\n",
    "    semantic_tokenizer = \\\n",
    "        AutoTokenizer.from_pretrained(\"microsoft/deberta-large-mnli\")\n",
    "    semantic_model = \\\n",
    "        AutoModelForSequenceClassification.from_pretrained(\n",
    "            \"microsoft/deberta-large-mnli\"\n",
    "        ).cuda()"
   ]
  },
  {
   "cell_type": "code",
   "execution_count": 6,
   "metadata": {},
   "outputs": [],
   "source": [
    "retrieved_scores, retrieved_true_scores, queries, answers, opensource_true_scores, opensource_answers, opensource_occurances, opensource_semantic_ids = \\\n",
    "        read_results(task, end=200)"
   ]
  },
  {
   "cell_type": "code",
   "execution_count": 7,
   "metadata": {},
   "outputs": [],
   "source": [
    "answers_semantic = []\n",
    "for true_score, scores, returned_answers in zip(retrieved_true_scores, retrieved_scores, opensource_answers):\n",
    "    idx = list(scores).index(true_score)\n",
    "    tmp = returned_answers[idx]\n",
    "    answers_semantic.append(tmp)"
   ]
  },
  {
   "cell_type": "code",
   "execution_count": 79,
   "metadata": {},
   "outputs": [
    {
     "name": "stderr",
     "output_type": "stream",
     "text": [
      " 16%|██████████████████████████████████████████▎                                                                                                                                                                                                                               | 72/452 [00:28<02:16,  2.79it/s]"
     ]
    },
    {
     "name": "stdout",
     "output_type": "stream",
     "text": [
      "70\n"
     ]
    },
    {
     "name": "stderr",
     "output_type": "stream",
     "text": [
      " 58%|██████████████████████████████████████████████████████████████████████████████████████████████████████████████████████████████████████████████████████████▏                                                                                                              | 263/452 [01:22<01:09,  2.74it/s]"
     ]
    },
    {
     "name": "stdout",
     "output_type": "stream",
     "text": [
      "258\n"
     ]
    },
    {
     "name": "stderr",
     "output_type": "stream",
     "text": [
      " 70%|██████████████████████████████████████████████████████████████████████████████████████████████████████████████████████████████████████████████████████████████████████████████████████████▍                                                                              | 318/452 [01:40<00:27,  4.86it/s]"
     ]
    },
    {
     "name": "stdout",
     "output_type": "stream",
     "text": [
      "312\n"
     ]
    },
    {
     "name": "stderr",
     "output_type": "stream",
     "text": [
      "100%|█████████████████████████████████████████████████████████████████████████████████████████████████████████████████████████████████████████████████████████████████████████████████████████████████████████████████████████████████████████████████████████████████████████| 452/452 [02:33<00:00,  2.95it/s]\n"
     ]
    }
   ],
   "source": [
    "opensource_true_scores_semantic = []\n",
    "skip = []\n",
    "for idx, [query_tmp, true_answer, generated_answer] in tqdm(enumerate(zip(queries, answers, answers_semantic)), total=len(queries)):\n",
    "\n",
    "    prompt = utils.get_prompt_template(query_tmp, \"\", task=\"Natural Questions\")\n",
    "    semantic_set_ids, semantic_probs, item_occurance = \\\n",
    "                utils.clustering(\n",
    "        sequences=generated_answer, \n",
    "        prompt=prompt,\n",
    "        semantic_model=semantic_model,\n",
    "        semantic_tokenizer=semantic_tokenizer,\n",
    "        scorer=scorer,\n",
    "        semantic=True\n",
    "    )\n",
    "    true_scores, matched_answer, semantics = utils.processing_answers(\n",
    "        semantic_set_ids, semantic_probs, \n",
    "        item_occurance, true_answer, scorer,\n",
    "        threshold=0.3\n",
    "    )\n",
    "    if len(true_scores) == 0:\n",
    "        print(idx)\n",
    "        skip.append(idx)\n",
    "        continue\n",
    "    opensource_true_scores_semantic.append(true_scores)"
   ]
  },
  {
   "cell_type": "code",
   "execution_count": 8,
   "metadata": {},
   "outputs": [],
   "source": [
    "skip = [70, 258, 312]"
   ]
  },
  {
   "cell_type": "code",
   "execution_count": 16,
   "metadata": {},
   "outputs": [],
   "source": [
    "def compute_semantic_clusterring(model, tokenizer,\n",
    "                                 question, answers):\n",
    "    # filter out non-unique answers\n",
    "    unique_generated_texts, item_occurance = \\\n",
    "        utils.unique_items(answers)\n",
    "\n",
    "    # unique_generated_texts = list(set(answers))\n",
    "    semantic_set_ids = {}\n",
    "    for index, answer in enumerate(unique_generated_texts):\n",
    "        semantic_set_ids[answer] = index\n",
    "    # print('Number of unique answers:', len(unique_generated_texts))\n",
    "\n",
    "    with torch.no_grad():\n",
    "        semantics = [0]\n",
    "        for i in range(1, len(unique_generated_texts)):\n",
    "            included = False\n",
    "            for semantic in semantics:\n",
    "                qa_1 = question + ' ' + unique_generated_texts[semantic]\n",
    "                qa_2 = question + ' ' + unique_generated_texts[i]\n",
    "\n",
    "                input = qa_1 + ' [SEP] ' + qa_2\n",
    "                encoded_input = tokenizer.encode(input, padding=True)\n",
    "                prediction = model(torch.tensor([encoded_input], device='cuda'))['logits']\n",
    "                predicted_label = torch.argmax(prediction, dim=1)\n",
    "\n",
    "                reverse_input = qa_2 + ' [SEP] ' + qa_1\n",
    "                encoded_reverse_input = tokenizer.encode(\n",
    "                    reverse_input,\n",
    "                    padding=True)\n",
    "                reverse_prediction = model(torch.tensor([encoded_reverse_input], device='cuda'))['logits']\n",
    "                reverse_predicted_label = torch.argmax(\n",
    "                    reverse_prediction,\n",
    "                    dim=1)\n",
    "\n",
    "                if 2 in predicted_label and 2 in reverse_predicted_label:\n",
    "                    semantic_set_ids[unique_generated_texts[i]] = \\\n",
    "                        semantic_set_ids[unique_generated_texts[semantic]]\n",
    "                    included = True\n",
    "                    break\n",
    "            if not included:\n",
    "                semantics.append(i)\n",
    "\n",
    "    semantic_probs = utils.get_semantic_prob(semantic_set_ids, item_occurance)\n",
    "    return semantic_set_ids, semantic_probs, item_occurance"
   ]
  },
  {
   "cell_type": "code",
   "execution_count": null,
   "metadata": {},
   "outputs": [
    {
     "name": "stderr",
     "output_type": "stream",
     "text": [
      " 45%|███████████████████████████████████████████████████████████████████████████████████████████████████████████████████████▋                                                                                                                                                  | 90/200 [20:15<11:06,  6.06s/it]"
     ]
    }
   ],
   "source": [
    "occurances_semantic = []\n",
    "semantic_ids_semantic = []\n",
    "probs_semantic = []\n",
    "for idx, [query_tmp, generated_answers] in tqdm(enumerate(zip(queries, opensource_answers)), total=len(queries)):\n",
    "    if idx in skip:\n",
    "        continue\n",
    "    probs_tmp = []\n",
    "    answers_tmp = []\n",
    "    semantic_id_tmp = []\n",
    "    occurance_tmp = []\n",
    "    semantic_tmp = []\n",
    "    for generated_answer in generated_answers:\n",
    "        prompt = utils.get_prompt_template(query_tmp, \"\", task=\"Natural Questions\")\n",
    "        semantic_set_ids, semantic_probs, item_occurance = \\\n",
    "            compute_semantic_clusterring(\n",
    "            answers=generated_answer, \n",
    "            question=query_tmp,\n",
    "            model=semantic_model,\n",
    "            tokenizer=semantic_tokenizer,\n",
    "        )\n",
    "        probs_tmp.append(semantic_probs)\n",
    "        occurance_tmp.append(item_occurance)\n",
    "        semantic_id_tmp.append(semantic_set_ids)\n",
    "    occurances_semantic.append(occurance_tmp)\n",
    "    semantic_ids_semantic.append(semantic_id_tmp)\n",
    "    probs_semantic.append(probs_tmp)"
   ]
  },
  {
   "cell_type": "code",
   "execution_count": null,
   "metadata": {},
   "outputs": [],
   "source": [
    "write_list(opensource_true_scores_semantic, f'opensource_true_scores_{task}_semantic.p')\n",
    "write_list(occurances_semantic, f'occurances_{task}_semantic.p')\n",
    "write_list(semantic_ids_semantic, f'semantic_ids_{task}_semantic.p')\n",
    "write_list(probs_semantic, f'semantic_ids_{task}_semantic.p')"
   ]
  },
  {
   "cell_type": "code",
   "execution_count": null,
   "metadata": {},
   "outputs": [],
   "source": [
    "opensource_true_scores_semantic = read_list(f'opensource_true_scores_{task}_semantic.p')[:end]\n",
    "opensource_occurances_semantic = read_list(f'occurances_{task}_semantic.p')[:end]\n",
    "opensource_semantic_ids_semantic = read_list(f'semantic_ids_{task}_semantic.p')[:end]"
   ]
  },
  {
   "cell_type": "code",
   "execution_count": null,
   "metadata": {},
   "outputs": [],
   "source": [
    "# indices = np.arange(1000)\n",
    "indices = np.arange(len(queries))\n",
    "random.shuffle(indices)\n",
    "cal_first_indices = indices[:int(len(indices) * 0.3)]\n",
    "cal_second_indices = indices[int(len(indices) * 0.3) : int(len(indices) * 0.6)]\n",
    "test_indices = indices[int(len(indices) * 0.6):]\n",
    "# test_indices = indices[int(len(indices) * 0.3):]\n",
    "\n",
    "cal_first_queries = utils.split(queries, cal_first_indices)\n",
    "cal_second_queries = utils.split(queries, cal_second_indices)\n",
    "test_queries = utils.split(queries, test_indices)\n",
    "\n",
    "cal_first_answers = utils.split(answers, cal_first_indices)\n",
    "cal_second_answers = utils.split(answers, cal_second_indices)\n",
    "test_answers = utils.split(answers, test_indices)\n",
    "\n",
    "cal_first_answers_semantic = utils.split(answers_semantic, cal_first_indices)\n",
    "cal_second_answers_semantic = utils.split(answers_semantic, cal_second_indices)\n",
    "test_answers_semantic = utils.split(answers_semantic, test_indices)\n",
    "\n",
    "cal_first_retrieved_true_scores = utils.split(retrieved_true_scores, cal_first_indices)\n",
    "cal_second_retrieved_true_scores = utils.split(retrieved_true_scores, cal_second_indices)\n",
    "test_retrieved_true_scores = utils.split(retrieved_true_scores, test_indices)\n",
    "\n",
    "cal_first_opensource_true_scores = utils.split(opensource_true_scores, cal_first_indices)\n",
    "cal_second_opensource_true_scores = utils.split(opensource_true_scores, cal_second_indices)\n",
    "test_opensource_true_scores = utils.split(opensource_true_scores, test_indices)\n",
    "\n",
    "cal_first_retrieved_scores = utils.split(retrieved_scores, cal_first_indices)\n",
    "cal_second_retrieved_scores = utils.split(retrieved_scores, cal_second_indices)\n",
    "test_retrieved_scores = utils.split(retrieved_scores, test_indices)\n",
    "\n",
    "cal_first_opensource_occurances = utils.split(opensource_occurances, cal_first_indices)\n",
    "cal_second_opensource_occurances = utils.split(opensource_occurances, cal_second_indices)\n",
    "test_opensource_occurances = utils.split(opensource_occurances, test_indices)\n",
    "\n",
    "cal_first_opensource_semantic_ids = utils.split(opensource_semantic_ids, cal_first_indices)\n",
    "cal_second_opensource_semantic_ids = utils.split(opensource_semantic_ids, cal_second_indices)\n",
    "test_opensource_semantic_ids = utils.split(opensource_semantic_ids, test_indices)\n",
    "\n",
    "cal_first_queries = utils.split(queries, cal_first_indices)\n",
    "cal_second_queries = utils.split(queries, cal_second_indices)\n",
    "test_queries = utils.split(queries, test_indices)\n",
    "\n",
    "cal_first_opensource_answers = utils.split(opensource_answers, cal_first_indices)\n",
    "cal_second_opensource_answers = utils.split(opensource_answers, cal_second_indices)\n",
    "test_opensource_answers = utils.split(opensource_answers, test_indices)\n",
    "\n",
    "cal_first_answers = utils.split(answers, cal_first_indices)\n",
    "cal_second_answers = utils.split(answers, cal_second_indices)\n",
    "test_answers = utils.split(answers, test_indices)"
   ]
  },
  {
   "cell_type": "code",
   "execution_count": null,
   "metadata": {},
   "outputs": [],
   "source": [
    "scorer = rouge_scorer.RougeScorer([\"rouge1\", \"rouge2\", \"rougeL\"],\n",
    "                                        use_stemmer=True)"
   ]
  },
  {
   "cell_type": "markdown",
   "metadata": {},
   "source": [
    "## Compute coverage rate"
   ]
  },
  {
   "cell_type": "code",
   "execution_count": null,
   "metadata": {},
   "outputs": [],
   "source": [
    "def coverage(\n",
    "        retrieved_true_scores_list, opensource_true_scores_list,\n",
    "        retrieved_thr, qa_thr):\n",
    "\n",
    "    includes = []\n",
    "    for idx, (retrieved_true_score, opensource_true_score) in enumerate(zip(retrieved_true_scores_list, opensource_true_scores_list)):\n",
    "#         if idx > 20:\n",
    "        opensource_true_score = np.max(opensource_true_score)\n",
    "        include = True if (retrieved_true_score >= retrieved_thr and \n",
    "                           opensource_true_score >= qa_thr) \\\n",
    "                       else False\n",
    "        includes.append(include)\n",
    "    return includes"
   ]
  },
  {
   "cell_type": "code",
   "execution_count": null,
   "metadata": {
    "scrolled": true
   },
   "outputs": [],
   "source": [
    "alpha = 0.1\n",
    "retrieved_thr = utils.compute_threshold(cal_first_retrieved_true_scores, alpha=alpha/2)\n",
    "cal_first_scores = []\n",
    "for scores in cal_first_opensource_true_scores:\n",
    "    cal_first_scores.append(np.max(scores))\n",
    "opensource_qa_thr = utils.compute_threshold(cal_first_scores, alpha=alpha/2)\n",
    "\n",
    "retrieved_coverage = np.mean(np.array(cal_second_retrieved_true_scores) >= retrieved_thr)\n",
    "cal_second_scores = []\n",
    "for scores in cal_second_opensource_true_scores:\n",
    "    cal_second_scores.append(np.max(scores))\n",
    "qa_coverage = np.mean(np.array(cal_second_scores) >= opensource_qa_thr)\n",
    "print('retrieval coverage', retrieved_coverage)\n",
    "print('qa coverage', qa_coverage)\n",
    "\n",
    "retrieved_coverage = np.mean(np.array(test_retrieved_true_scores) >= retrieved_thr)\n",
    "test_scores = []\n",
    "for scores in test_opensource_true_scores:\n",
    "    test_scores.append(np.max(scores))\n",
    "qa_coverage = np.mean(np.array(test_scores) >= opensource_qa_thr)\n",
    "print('test retrieval coverage', retrieved_coverage)\n",
    "print('test qa coverage', qa_coverage)"
   ]
  },
  {
   "cell_type": "code",
   "execution_count": null,
   "metadata": {
    "scrolled": false
   },
   "outputs": [],
   "source": [
    "coverages = coverage(test_retrieved_true_scores, \n",
    "                    test_opensource_true_scores,\n",
    "                    retrieved_thr,\n",
    "                    opensource_qa_thr\n",
    "                   )\n",
    "print('End-to-end coverage', np.mean(coverages))"
   ]
  },
  {
   "cell_type": "markdown",
   "metadata": {},
   "source": [
    "## PAC-Bonf"
   ]
  },
  {
   "cell_type": "code",
   "execution_count": null,
   "metadata": {},
   "outputs": [],
   "source": [
    "from pac_utils import find_maximum_train_error_allow"
   ]
  },
  {
   "cell_type": "code",
   "execution_count": null,
   "metadata": {},
   "outputs": [],
   "source": [
    "delta = 0.1\n",
    "retrieve_alpha = find_maximum_train_error_allow(alpha/2.0, delta/2.0, len(cal_first_indices))\n",
    "qa_alpha = find_maximum_train_error_allow(alpha/2.0, delta/2.0, len(cal_first_indices))\n",
    "retrieved_thr = utils.compute_threshold(cal_first_retrieved_true_scores, alpha=retrieve_alpha)\n",
    "cal_first_scores = []\n",
    "for scores in cal_first_opensource_true_scores:\n",
    "    cal_first_scores.append(np.max(scores))\n",
    "opensource_qa_thr = utils.compute_threshold(cal_first_scores, alpha=qa_alpha)\n",
    "\n",
    "retrieved_coverage = np.mean(np.array(cal_second_retrieved_true_scores) >= retrieved_thr)\n",
    "cal_second_scores = []\n",
    "for scores in cal_second_opensource_true_scores:\n",
    "    cal_second_scores.append(np.max(scores))\n",
    "qa_coverage = np.mean(np.array(cal_second_scores) >= opensource_qa_thr)\n",
    "print('retrieval coverage', retrieved_coverage)\n",
    "print('qa coverage', qa_coverage)\n",
    "\n",
    "retrieved_coverage = np.mean(np.array(test_retrieved_true_scores) >= retrieved_thr)\n",
    "test_scores = []\n",
    "for scores in test_opensource_true_scores:\n",
    "    test_scores.append(np.max(scores))\n",
    "qa_coverage = np.mean(np.array(test_scores) >= opensource_qa_thr)\n",
    "print('test retrieval coverage', retrieved_coverage)\n",
    "print('test qa coverage', qa_coverage)"
   ]
  },
  {
   "cell_type": "code",
   "execution_count": null,
   "metadata": {},
   "outputs": [],
   "source": [
    "coverages = coverage(test_retrieved_true_scores, \n",
    "                    test_opensource_true_scores,\n",
    "                    retrieved_thr,\n",
    "                    opensource_qa_thr\n",
    "                   )\n",
    "print('End-to-end coverage', np.mean(coverages))"
   ]
  },
  {
   "cell_type": "markdown",
   "metadata": {},
   "source": [
    "## Bayesian optimization"
   ]
  },
  {
   "cell_type": "code",
   "execution_count": null,
   "metadata": {},
   "outputs": [],
   "source": [
    "from skopt.space import Real\n",
    "from skopt import gp_minimize\n",
    "from skopt.utils import use_named_args"
   ]
  },
  {
   "cell_type": "code",
   "execution_count": null,
   "metadata": {},
   "outputs": [],
   "source": [
    "def evaluate(\n",
    "        test_retrieved_scores,\n",
    "        test_queries, test_answers, test_opensource_answers, \n",
    "        test_opensource_occurances, test_opensource_semantic_ids,\n",
    "        retrieved_thr, opensource_qa_thr,\n",
    "        cluster=True):\n",
    "\n",
    "    includes = []\n",
    "    answer_counts = []\n",
    "    semantic_counts = []\n",
    "    includes = []\n",
    "    coverages = []\n",
    "    for idx, (retrieved_scores_tmp, \\\n",
    "            query_tmp, answers_tmp, opensource_answers_tmp, \\\n",
    "            opensource_occurances_tmp, opensource_semantic_ids_tmp) \\\n",
    "        in tqdm(enumerate(zip(\n",
    "            test_retrieved_scores, \\\n",
    "            test_queries, test_answers, test_opensource_answers, \\\n",
    "            test_opensource_occurances, test_opensource_semantic_ids)),\n",
    "            total=len(test_retrieved_scores)):\n",
    "        \n",
    "#         opensource_true_score = np.max(opensource_true_score)\n",
    "#         include = True if (retrieved_true_score >= retrieved_thr and \n",
    "#                            opensource_true_score >= qa_thr) \\\n",
    "#                        else False\n",
    "        \n",
    "        include = False\n",
    "        retrieved_count = 0\n",
    "        semantics = []\n",
    "        for retrieved_score, answer, item_occurance, semantic_set_ids in zip(retrieved_scores_tmp, opensource_answers_tmp, opensource_occurances_tmp, opensource_semantic_ids_tmp):\n",
    "            if retrieved_score < retrieved_thr:\n",
    "                continue\n",
    "            else:\n",
    "                retrieved_count += 1\n",
    "                for predicted_answer in semantic_set_ids.keys():\n",
    "                    concept_id = semantic_set_ids[predicted_answer]\n",
    "                    repeat = item_occurance[predicted_answer]\n",
    "                    prob = repeat / len(answer)\n",
    "                    if prob >= opensource_qa_thr:\n",
    "                        semantics.append(predicted_answer)\n",
    "                        \n",
    "                        # TODO: check if the semantic is consistent with true answer\n",
    "                        if include is False:\n",
    "                            for answer_tmp in answers_tmp:\n",
    "                                scores = scorer.score(answer_tmp,\n",
    "                                                      predicted_answer)\n",
    "                                scores = scores['rouge1'][2]\n",
    "                                if scores >= 0.3:\n",
    "                                    include = True\n",
    "                                    break\n",
    "        if cluster:\n",
    "#             semantic_set_ids, semantic_probs, item_occurance = \\\n",
    "#                         utils.clustering(semantics, \"\", scorer=scorer)\n",
    "            \n",
    "            prompt = utils.get_prompt_template(query_tmp, \"\", task=\"Natural Questions\")\n",
    "#             print(semantics)\n",
    "            semantic_set_ids, semantic_probs, item_occurance = \\\n",
    "                utils.clustering(\n",
    "                sequences=semantics, \n",
    "                prompt=prompt,\n",
    "                semantic_model=semantic_model,\n",
    "                semantic_tokenizer=semantic_tokenizer,\n",
    "                scorer=scorer,\n",
    "                semantic=True\n",
    "            )\n",
    "#             true_scores, matched_answer, semantics = utils.processing_answers(\n",
    "#                 semantic_set_ids, semantic_probs, \n",
    "#                 item_occurance, true_answer, scorer,\n",
    "#                 threshold=0.3\n",
    "#             )\n",
    "\n",
    "            semantic_counts.append(len(semantic_probs.keys()))\n",
    "        else:\n",
    "            semantic_counts.append(len(semantics))\n",
    "        includes.append(include)\n",
    "        \n",
    "    return [includes, answer_counts, semantic_counts]"
   ]
  },
  {
   "cell_type": "markdown",
   "metadata": {},
   "source": [
    "## Bonf method"
   ]
  },
  {
   "cell_type": "code",
   "execution_count": null,
   "metadata": {},
   "outputs": [],
   "source": [
    "def softmax(vec):\n",
    "    nom = np.exp(vec - np.mean(vec))\n",
    "    return nom / np.sum(nom)"
   ]
  },
  {
   "cell_type": "code",
   "execution_count": null,
   "metadata": {},
   "outputs": [],
   "source": [
    "\"\"\"\n",
    "Weight HMP module\n",
    "\"\"\"\n",
    "w1 = Real(name='w1', low=0.0, high=1.0)\n",
    "w2 = Real(name='w2', low=0.0, high=1.0)\n",
    "\n",
    "# Gather the search-space dimensions in a list.\n",
    "dimensions = [w1, w2]\n",
    "\n",
    "@use_named_args(dimensions=dimensions)\n",
    "def objective(w1, w2):\n",
    "    weights = softmax(np.array([w1, w2])).reshape(-1, 1)\n",
    "    alpha_retrieve = alpha * weights[0]\n",
    "    alpha_qa = alpha * weights[1]\n",
    "    retrieved_thr = utils.compute_threshold(cal_first_retrieved_true_scores, alpha=alpha_retrieve)\n",
    "    cal_first_scores = []\n",
    "    for scores in cal_first_opensource_true_scores:\n",
    "        cal_first_scores.append(np.max(scores))\n",
    "    opensource_qa_thr = utils.compute_threshold(cal_first_scores, alpha=alpha_qa)\n",
    "    results = evaluate(cal_second_retrieved_scores, cal_second_queries, \n",
    "                       cal_second_answers, cal_second_opensource_answers, \\\n",
    "                       cal_second_opensource_occurances, cal_second_opensource_semantic_ids,\n",
    "                       retrieved_thr, opensource_qa_thr,\n",
    "                       cluster=True\n",
    "                      )\n",
    "    coverage = np.mean(results[0])\n",
    "    average_answer = np.mean(results[1])\n",
    "    average_semantic = np.mean(results[2])\n",
    "    return average_semantic\n",
    "\n",
    "result = gp_minimize(func=objective,\n",
    "                     dimensions=dimensions,\n",
    "                     acq_func=\"EI\",      # the acquisition function\n",
    "                     n_calls=10,\n",
    "                     random_state=42,\n",
    "                     verbose=True)\n",
    "\n",
    "print(\"Best fitness:\", result.fun)\n",
    "print(\"Best parameters:\", softmax(result.x))"
   ]
  },
  {
   "cell_type": "code",
   "execution_count": null,
   "metadata": {},
   "outputs": [],
   "source": [
    "weights = softmax(result.x).reshape(-1, 1)\n",
    "alpha_retrieve = alpha * weights[0]\n",
    "alpha_qa = alpha * weights[1]\n",
    "retrieved_thr = utils.compute_threshold(cal_first_retrieved_true_scores, alpha=alpha_retrieve)\n",
    "cal_first_scores = []\n",
    "for scores in cal_first_opensource_true_scores:\n",
    "    cal_first_scores.append(np.max(scores))\n",
    "opensource_qa_thr = utils.compute_threshold(cal_first_scores, alpha=alpha_qa)\n",
    "results = evaluate(\n",
    "    test_retrieved_scores, test_queries,\n",
    "    test_answers, test_opensource_answers, \n",
    "    test_opensource_occurances, test_opensource_semantic_ids,\n",
    "    retrieved_thr, opensource_qa_thr,\n",
    "    cluster=True\n",
    ")"
   ]
  },
  {
   "cell_type": "code",
   "execution_count": null,
   "metadata": {},
   "outputs": [],
   "source": [
    "print('Desired Coverage', 1-alpha)\n",
    "print('Coverage', np.mean(results[0]))\n",
    "# print('Average answer', np.mean(results[1]))\n",
    "print('Average semantic', np.mean(results[2]))"
   ]
  },
  {
   "cell_type": "code",
   "execution_count": null,
   "metadata": {},
   "outputs": [],
   "source": [
    "alpha_retrieve = alpha * (1/2.0)\n",
    "alpha_qa = alpha * (1/2.0)\n",
    "retrieved_thr = utils.compute_threshold(cal_first_retrieved_true_scores, alpha=alpha_retrieve)\n",
    "cal_first_scores = []\n",
    "for scores in cal_first_opensource_true_scores:\n",
    "    cal_first_scores.append(np.max(scores))\n",
    "opensource_qa_thr = utils.compute_threshold(cal_first_scores, alpha=alpha_qa)\n",
    "results = evaluate(\n",
    "    test_retrieved_scores, test_queries,\n",
    "    test_answers, test_opensource_answers, \n",
    "    test_opensource_occurances, test_opensource_semantic_ids,\n",
    "    retrieved_thr, opensource_qa_thr,\n",
    "    cluster=True\n",
    ")"
   ]
  },
  {
   "cell_type": "code",
   "execution_count": null,
   "metadata": {},
   "outputs": [],
   "source": [
    "print('Desired Coverage', 1-alpha)\n",
    "print('Coverage', np.mean(results[0]))\n",
    "# print('Average answer', np.mean(results[1]))\n",
    "print('Average semantic', np.mean(results[2]))"
   ]
  },
  {
   "cell_type": "code",
   "execution_count": null,
   "metadata": {},
   "outputs": [],
   "source": [
    "def evaluate_vanila(\n",
    "        test_retrieved_scores,\n",
    "        test_queries, test_answers, test_chatgpt_answers, \n",
    "        test_chatgpt_occurances, test_chatgpt_semantic_ids,\n",
    "        cluster=True):\n",
    "\n",
    "    includes = []\n",
    "    answer_counts = []\n",
    "    semantic_counts = []\n",
    "    includes = []\n",
    "    coverages = []\n",
    "    for idx, (retrieved_scores_tmp, \\\n",
    "            query_tmp, answers_tmp, chatgpt_answers_tmp, \\\n",
    "            chatgpt_occurances_tmp, chatgpt_semantic_ids_tmp) \\\n",
    "        in enumerate(zip(\n",
    "            test_retrieved_scores, \\\n",
    "            test_queries, test_answers, test_chatgpt_answers, \\\n",
    "            test_chatgpt_occurances, test_chatgpt_semantic_ids)):\n",
    "        include = False\n",
    "        retrieved_count = 0\n",
    "        semantics = []\n",
    "        for retrieved_score, answer, item_occurance, semantic_set_ids in zip(retrieved_scores_tmp, chatgpt_answers_tmp, chatgpt_occurances_tmp, chatgpt_semantic_ids_tmp):\n",
    "            retrieved_count += 1\n",
    "            for predicted_answer in semantic_set_ids.keys():\n",
    "                concept_id = semantic_set_ids[predicted_answer]\n",
    "                repeat = item_occurance[predicted_answer]\n",
    "                prob = repeat / len(answer)\n",
    "                # TODO: check if the semantic is consistent with true answer\n",
    "                if include is False:\n",
    "                    for answer_tmp in answers_tmp:\n",
    "                        scores = scorer.score(answer_tmp,\n",
    "                                              predicted_answer)\n",
    "                        scores = scores['rouge1'][2]\n",
    "                        if scores >= 0.3:\n",
    "                            include = True\n",
    "                            break\n",
    "            break\n",
    "        if cluster:\n",
    "#             semantic_set_ids, semantic_probs, item_occurance = \\\n",
    "#                         utils.clustering(semantics, \"\", scorer=scorer)\n",
    "            prompt = utils.get_prompt_template(query_tmp, \"\", task=\"Natural Questions\")\n",
    "            semantic_set_ids, semantic_probs, item_occurance = \\\n",
    "                utils.clustering(\n",
    "                sequences=semantics, \n",
    "                prompt=prompt,\n",
    "                semantic_model=semantic_model,\n",
    "                semantic_tokenizer=semantic_tokenizer,\n",
    "                scorer=scorer,\n",
    "                semantic=True\n",
    "            )\n",
    "            semantic_counts.append(len(semantic_probs.keys()))\n",
    "        else:\n",
    "            semantic_counts.append(len(semantics))\n",
    "        answer_counts.append(retrieved_count)\n",
    "        includes.append(include)\n",
    "    return [includes, answer_counts, semantic_counts]"
   ]
  },
  {
   "cell_type": "code",
   "execution_count": null,
   "metadata": {},
   "outputs": [],
   "source": [
    "%%time\n",
    "results = evaluate_vanila(\n",
    "    test_retrieved_scores, test_queries,\n",
    "    test_answers, test_opensource_answers, \n",
    "    test_opensource_occurances, test_opensource_semantic_ids,\n",
    "    cluster=True)"
   ]
  },
  {
   "cell_type": "code",
   "execution_count": null,
   "metadata": {},
   "outputs": [],
   "source": [
    "print('Desired coverage rate', 1-alpha)\n",
    "print('Coverage', np.mean(results[0]))\n",
    "print('Average answer', np.mean(results[1]))\n",
    "print('Average semantic', np.mean(results[2]))"
   ]
  },
  {
   "cell_type": "markdown",
   "metadata": {},
   "source": [
    "## PAC-Bonf method"
   ]
  },
  {
   "cell_type": "code",
   "execution_count": null,
   "metadata": {},
   "outputs": [],
   "source": [
    "alpha_retrieve = alpha * (1/2.0)\n",
    "alpha_qa = alpha * (1/2.0)\n",
    "\n",
    "delta = 0.1\n",
    "alpha_retrieve_pac = find_maximum_train_error_allow(alpha_retrieve, delta/2.0, len(cal_first_indices))\n",
    "alpha_qa_pac = find_maximum_train_error_allow(alpha_qa, delta/2.0, len(cal_first_indices))\n",
    "\n",
    "retrieved_thr = utils.compute_threshold(cal_first_retrieved_true_scores, alpha=alpha_retrieve_pac)\n",
    "cal_first_scores = []\n",
    "for scores in cal_first_opensource_true_scores:\n",
    "    cal_first_scores.append(np.max(scores))\n",
    "opensource_qa_thr = utils.compute_threshold(cal_first_scores, alpha=alpha_qa_pac)\n",
    "results = evaluate(\n",
    "    test_retrieved_scores, test_queries,\n",
    "    test_answers, test_opensource_answers, \n",
    "    test_opensource_occurances, test_opensource_semantic_ids,\n",
    "    retrieved_thr, opensource_qa_thr)"
   ]
  },
  {
   "cell_type": "code",
   "execution_count": null,
   "metadata": {},
   "outputs": [],
   "source": [
    "print('Desired Coverage', 1-alpha)\n",
    "print('Coverage', np.mean(results[0]))\n",
    "# print('Average answer', np.mean(results[1]))\n",
    "print('Average semantic', np.mean(results[2]))"
   ]
  },
  {
   "cell_type": "code",
   "execution_count": null,
   "metadata": {},
   "outputs": [],
   "source": []
  }
 ],
 "metadata": {
  "kernelspec": {
   "display_name": "Python 3 (ipykernel)",
   "language": "python",
   "name": "python3"
  },
  "language_info": {
   "codemirror_mode": {
    "name": "ipython",
    "version": 3
   },
   "file_extension": ".py",
   "mimetype": "text/x-python",
   "name": "python",
   "nbconvert_exporter": "python",
   "pygments_lexer": "ipython3",
   "version": "3.9.0"
  }
 },
 "nbformat": 4,
 "nbformat_minor": 2
}
